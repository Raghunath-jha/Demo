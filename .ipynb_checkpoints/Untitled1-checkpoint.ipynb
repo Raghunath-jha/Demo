{
 "cells": [
  {
   "cell_type": "code",
   "execution_count": 1,
   "id": "281c1a23",
   "metadata": {},
   "outputs": [
    {
     "name": "stdout",
     "output_type": "stream",
     "text": [
      "alok\n"
     ]
    }
   ],
   "source": [
    "print('alok')"
   ]
  },
  {
   "cell_type": "code",
   "execution_count": 2,
   "id": "8b85b3ad",
   "metadata": {},
   "outputs": [],
   "source": [
    "import numpy"
   ]
  },
  {
   "cell_type": "code",
   "execution_count": 11,
   "id": "997645f2",
   "metadata": {},
   "outputs": [
    {
     "name": "stdout",
     "output_type": "stream",
     "text": [
      "\n"
     ]
    }
   ],
   "source": [
    "a='kishan'\n",
    "print(a[5:4:3])"
   ]
  },
  {
   "cell_type": "code",
   "execution_count": 5,
   "id": "cbb37ebc",
   "metadata": {},
   "outputs": [
    {
     "name": "stdout",
     "output_type": "stream",
     "text": [
      "REDOC  si nahsik\n",
      "16\n"
     ]
    }
   ],
   "source": [
    "a='kishan is  CODER'\n",
    "print(a[::-1])\n",
    "print(len(a))"
   ]
  },
  {
   "cell_type": "code",
   "execution_count": 23,
   "id": "c452fe86",
   "metadata": {},
   "outputs": [
    {
     "name": "stdout",
     "output_type": "stream",
     "text": [
      "False\n"
     ]
    }
   ],
   "source": [
    "print(a.endswith(\"p\"))"
   ]
  },
  {
   "cell_type": "code",
   "execution_count": 24,
   "id": "0e3602eb",
   "metadata": {},
   "outputs": [
    {
     "name": "stdout",
     "output_type": "stream",
     "text": [
      "2\n"
     ]
    }
   ],
   "source": [
    "print(a.count(\"i\"))"
   ]
  },
  {
   "cell_type": "code",
   "execution_count": null,
   "id": "3610467c",
   "metadata": {},
   "outputs": [],
   "source": [
    "x=41\n",
    "if x>10:\n",
    "    \n",
    "    print(\"x is greater than 10\")\n",
    "    if x> 20:\n",
    "        pass\n",
    "        \n",
    "#     print(\"x is greater than 20\")\n",
    "    else:\n",
    "        print(\"but not above 20\")"
   ]
  },
  {
   "cell_type": "code",
   "execution_count": null,
   "id": "e7e6411c",
   "metadata": {},
   "outputs": [],
   "source": [
    "i=int(input())\n",
    "\n",
    "while i<=6 :\n",
    "    print(i)\n",
    "    i+=1\n"
   ]
  },
  {
   "cell_type": "code",
   "execution_count": null,
   "id": "7d6c5acd",
   "metadata": {},
   "outputs": [],
   "source": [
    "i=int(input())\n",
    "\n",
    "while i<=10 :\n",
    "    i+=1\n",
    "    if i==5:\n",
    "        continue\n",
    "    print(i)\n"
   ]
  },
  {
   "cell_type": "code",
   "execution_count": null,
   "id": "eebc799b",
   "metadata": {},
   "outputs": [],
   "source": [
    "i=int(input())\n",
    "\n",
    "while i<=10 :\n",
    "    i+=1\n",
    "    if i==5:\n",
    "        continue\n",
    "    print(i)"
   ]
  },
  {
   "cell_type": "code",
   "execution_count": null,
   "id": "fc12b1d8",
   "metadata": {},
   "outputs": [],
   "source": []
  }
 ],
 "metadata": {
  "kernelspec": {
   "display_name": "Python 3 (ipykernel)",
   "language": "python",
   "name": "python3"
  },
  "language_info": {
   "codemirror_mode": {
    "name": "ipython",
    "version": 3
   },
   "file_extension": ".py",
   "mimetype": "text/x-python",
   "name": "python",
   "nbconvert_exporter": "python",
   "pygments_lexer": "ipython3",
   "version": "3.9.7"
  }
 },
 "nbformat": 4,
 "nbformat_minor": 5
}
