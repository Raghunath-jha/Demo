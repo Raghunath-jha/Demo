{
 "cells": [
  {
   "cell_type": "code",
   "execution_count": 1,
   "id": "f9ee3146",
   "metadata": {},
   "outputs": [
    {
     "name": "stdout",
     "output_type": "stream",
     "text": [
      "hello world\n"
     ]
    }
   ],
   "source": [
    "print('hello world')"
   ]
  },
  {
   "cell_type": "code",
   "execution_count": 6,
   "id": "dd9a2701",
   "metadata": {},
   "outputs": [
    {
     "ename": "SyntaxError",
     "evalue": "invalid syntax (Temp/ipykernel_12272/4092030798.py, line 1)",
     "output_type": "error",
     "traceback": [
      "\u001b[1;36m  File \u001b[1;32m\"C:\\Users\\ACER\\AppData\\Local\\Temp/ipykernel_12272/4092030798.py\"\u001b[1;36m, line \u001b[1;32m1\u001b[0m\n\u001b[1;33m    ('python'+)\u001b[0m\n\u001b[1;37m              ^\u001b[0m\n\u001b[1;31mSyntaxError\u001b[0m\u001b[1;31m:\u001b[0m invalid syntax\n"
     ]
    }
   ],
   "source": [
    "('python'+)"
   ]
  },
  {
   "cell_type": "code",
   "execution_count": 3,
   "id": "cb625218",
   "metadata": {},
   "outputs": [
    {
     "data": {
      "text/plain": [
       "'mzn'"
      ]
     },
     "execution_count": 3,
     "metadata": {},
     "output_type": "execute_result"
    }
   ],
   "source": [
    "word=\"amazing\"\n",
    "word[1:6:2]"
   ]
  },
  {
   "cell_type": "code",
   "execution_count": 11,
   "id": "c00f70db",
   "metadata": {},
   "outputs": [
    {
     "data": {
      "text/plain": [
       "10"
      ]
     },
     "execution_count": 11,
     "metadata": {},
     "output_type": "execute_result"
    }
   ],
   "source": [
    "2*5"
   ]
  },
  {
   "cell_type": "code",
   "execution_count": 13,
   "id": "6862df81",
   "metadata": {},
   "outputs": [
    {
     "name": "stdout",
     "output_type": "stream",
     "text": [
      "os.listdir()\n"
     ]
    }
   ],
   "source": [
    "import os\n",
    "print('os.listdir()')"
   ]
  },
  {
   "cell_type": "markdown",
   "id": "c5f03ace",
   "metadata": {},
   "source": [
    "a=71\n",
    "type('a)"
   ]
  },
  {
   "cell_type": "code",
   "execution_count": 16,
   "id": "e7f4bfc6",
   "metadata": {},
   "outputs": [
    {
     "data": {
      "text/plain": [
       "str"
      ]
     },
     "execution_count": 16,
     "metadata": {},
     "output_type": "execute_result"
    }
   ],
   "source": [
    "a='71'\n",
    "type(a)"
   ]
  },
  {
   "cell_type": "raw",
   "id": "7733ea97",
   "metadata": {},
   "source": [
    "str(23)\n"
   ]
  },
  {
   "cell_type": "code",
   "execution_count": 17,
   "id": "7f97503f",
   "metadata": {},
   "outputs": [
    {
     "name": "stdout",
     "output_type": "stream",
     "text": [
      "<class 'str'>\n"
     ]
    }
   ],
   "source": [
    "str(23)\n",
    "print(str)"
   ]
  },
  {
   "cell_type": "code",
   "execution_count": 18,
   "id": "6e1e60d0",
   "metadata": {},
   "outputs": [
    {
     "name": "stdout",
     "output_type": "stream",
     "text": [
      "Enter your nameraghu\n"
     ]
    }
   ],
   "source": [
    "a=input('Enter your name')"
   ]
  },
  {
   "cell_type": "code",
   "execution_count": 19,
   "id": "b9797962",
   "metadata": {},
   "outputs": [
    {
     "name": "stdout",
     "output_type": "stream",
     "text": [
      "6\n"
     ]
    }
   ],
   "source": [
    "a=2\n",
    "b=4\n",
    "add= a+b\n",
    "print(add)"
   ]
  },
  {
   "cell_type": "code",
   "execution_count": 7,
   "id": "0ba9261e",
   "metadata": {},
   "outputs": [
    {
     "name": "stdout",
     "output_type": "stream",
     "text": [
      "Enter a number: 5\n",
      "Enter a number: 6\n",
      "the average of a and b is: 5.5\n"
     ]
    }
   ],
   "source": [
    "a=input(\"Enter a number: \")\n",
    "b=input(\"Enter a number: \")\n",
    "a=int(a)\n",
    "b=int(b)\n",
    "c=(a+b)/2\n",
    "print(\"the average of a and b is:\",c)"
   ]
  },
  {
   "cell_type": "code",
   "execution_count": 9,
   "id": "dc91bb5c",
   "metadata": {},
   "outputs": [
    {
     "name": "stdout",
     "output_type": "stream",
     "text": [
      "Enter a number: 92\n",
      "Enter a number: 15\n",
      "the remainder when a is divided by b : 2\n"
     ]
    }
   ],
   "source": [
    "a=input(\"Enter a number: \")\n",
    "b=input(\"Enter a number: \")\n",
    "a=int(a)\n",
    "b=int(b)\n",
    "c=(a%b)\n",
    "print(\"the remainder when a is divided by b :\",c)"
   ]
  },
  {
   "cell_type": "code",
   "execution_count": 15,
   "id": "d9d82ec8",
   "metadata": {},
   "outputs": [
    {
     "name": "stdout",
     "output_type": "stream",
     "text": [
      "the remainder when a is divided by b : 0\n"
     ]
    }
   ],
   "source": [
    "a=80\n",
    "b=10\n",
    "print(\"the remainder when a is divided by b :\", a%b)"
   ]
  },
  {
   "cell_type": "code",
   "execution_count": 17,
   "id": "9bcf2da5",
   "metadata": {},
   "outputs": [
    {
     "data": {
      "text/plain": [
       "'iamRa'"
      ]
     },
     "execution_count": 17,
     "metadata": {},
     "output_type": "execute_result"
    }
   ],
   "source": [
    "a=('iamRavan')\n",
    "a[0:5]"
   ]
  },
  {
   "cell_type": "raw",
   "id": "2043ba21",
   "metadata": {},
   "source": [
    "a='world'\n",
    "a[0:3]"
   ]
  },
  {
   "cell_type": "code",
   "execution_count": 21,
   "id": "d756b552",
   "metadata": {},
   "outputs": [
    {
     "data": {
      "text/plain": [
       "''"
      ]
     },
     "execution_count": 21,
     "metadata": {},
     "output_type": "execute_result"
    }
   ],
   "source": [
    "a='world'\n",
    "a[0:0:4]"
   ]
  },
  {
   "cell_type": "code",
   "execution_count": 4,
   "id": "afccd076",
   "metadata": {},
   "outputs": [
    {
     "data": {
      "text/plain": [
       "''"
      ]
     },
     "execution_count": 4,
     "metadata": {},
     "output_type": "execute_result"
    }
   ],
   "source": [
    "a='world'\n",
    "a[-1:0]"
   ]
  },
  {
   "cell_type": "code",
   "execution_count": 12,
   "id": "094cac5a",
   "metadata": {},
   "outputs": [
    {
     "ename": "NameError",
     "evalue": "name 'string' is not defined",
     "output_type": "error",
     "traceback": [
      "\u001b[1;31m---------------------------------------------------------------------------\u001b[0m",
      "\u001b[1;31mNameError\u001b[0m                                 Traceback (most recent call last)",
      "\u001b[1;32m~\\AppData\\Local\\Temp/ipykernel_2060/3398038568.py\u001b[0m in \u001b[0;36m<module>\u001b[1;34m\u001b[0m\n\u001b[0;32m      2\u001b[0m \u001b[1;31m#len(a)\u001b[0m\u001b[1;33m\u001b[0m\u001b[1;33m\u001b[0m\u001b[0m\n\u001b[0;32m      3\u001b[0m \u001b[1;31m#string.endwith(\"th\")\u001b[0m\u001b[1;33m\u001b[0m\u001b[1;33m\u001b[0m\u001b[0m\n\u001b[1;32m----> 4\u001b[1;33m \u001b[0mstring\u001b[0m\u001b[1;33m.\u001b[0m\u001b[0mcount\u001b[0m\u001b[1;33m(\u001b[0m\u001b[1;34m\"r\"\u001b[0m\u001b[1;33m)\u001b[0m\u001b[1;33m\u001b[0m\u001b[1;33m\u001b[0m\u001b[0m\n\u001b[0m",
      "\u001b[1;31mNameError\u001b[0m: name 'string' is not defined"
     ]
    }
   ],
   "source": [
    "a=\"raghunath\"\n",
    "#len(a)\n",
    "#string.endwith(\"th\")\n",
    "string.count(\"r\")"
   ]
  },
  {
   "cell_type": "code",
   "execution_count": null,
   "id": "c5d6dd26",
   "metadata": {},
   "outputs": [],
   "source": []
  }
 ],
 "metadata": {
  "kernelspec": {
   "display_name": "Python 3 (ipykernel)",
   "language": "python",
   "name": "python3"
  },
  "language_info": {
   "codemirror_mode": {
    "name": "ipython",
    "version": 3
   },
   "file_extension": ".py",
   "mimetype": "text/x-python",
   "name": "python",
   "nbconvert_exporter": "python",
   "pygments_lexer": "ipython3",
   "version": "3.9.7"
  }
 },
 "nbformat": 4,
 "nbformat_minor": 5
}
